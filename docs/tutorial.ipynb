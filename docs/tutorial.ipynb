{
 "cells": [
  {
   "cell_type": "markdown",
   "id": "7eed1901",
   "metadata": {},
   "source": [
    "# Tutorial"
   ]
  },
  {
   "cell_type": "markdown",
   "id": "c2ca37c6",
   "metadata": {},
   "source": [
    "We start by importing the `Pipeline` from the `pycrires` package."
   ]
  },
  {
   "cell_type": "code",
   "execution_count": 1,
   "id": "2a59653f",
   "metadata": {},
   "outputs": [],
   "source": [
    "from pycrires import Pipeline"
   ]
  },
  {
   "cell_type": "markdown",
   "id": "f9864c75",
   "metadata": {},
   "source": [
    "Next, we create an instance of `Pipeline` with the path in which the 'raw' folder is located."
   ]
  },
  {
   "cell_type": "code",
   "execution_count": 2,
   "id": "36c9d6ce",
   "metadata": {},
   "outputs": [
    {
     "name": "stdout",
     "output_type": "stream",
     "text": [
      "=======================\n",
      "Pipeline for VLT/CRIRES\n",
      "=======================\n",
      "\n",
      "Data reduction folder: /Users/tomasstolker/applications/pycrires/docs\n",
      "Creating header DataFrame\n",
      "Creating dictionary for filenames\n",
      "Available esorex recipes for CRIRES:\n",
      "   -  cr2res_obs_2d         : 2D Observation recipe\n",
      "   -  cr2res_util_genlines  : Generate spectrum calibration FITS tables\n",
      "   -  cr2res_util_wave      : Wavelength Calibration\n",
      "   -  cr2res_util_bpm_split : BPM splitting utility\n",
      "   -  cr2res_util_plot      : Plotting utility\n",
      "   -  cr2res_cal_wave       : Wavelength Calibration\n",
      "   -  cr2res_obs_staring    : Staring Observation recipe\n",
      "   -  cr2res_util_trace     : Trace utility\n",
      "   -  cr2res_cal_detlin     : Detector Linearity recipe\n",
      "   -  cr2res_util_slit_curv : Slit Curvature utility\n",
      "   -  cr2res_cal_flat       : Flat recipe\n",
      "   -  cr2res_util_trace_map : TRACE_WAVE maps creation\n",
      "   -  cr2res_util_calib     : Calibration utility\n",
      "   -  cr2res_util_extract   : Optimal Extraction utility\n",
      "   -  cr2res_obs_nodding    : Nodding Observation recipe\n",
      "   -  cr2res_util_bpm_merge : BPM merging utility\n",
      "   -  cr2res_util_normflat  : Flat Normalization utility\n",
      "   -  cr2res_cal_dark       : Dark recipe\n",
      "   -  cr2res_util_splice    : Splicing utility\n",
      "   -  cr2res_util_genstd    : Generate standard star FITS tables\n",
      "   -  cr2res_obs_pol        : Polarimetry Observation recipe\n"
     ]
    }
   ],
   "source": [
    "pipeline = Pipeline('./')"
   ]
  },
  {
   "cell_type": "code",
   "execution_count": null,
   "id": "1d55c2a9",
   "metadata": {},
   "outputs": [],
   "source": [
    "pipeline.rename_files()"
   ]
  },
  {
   "cell_type": "code",
   "execution_count": null,
   "id": "fc07df93",
   "metadata": {},
   "outputs": [],
   "source": [
    "pipeline.extract_header()"
   ]
  },
  {
   "cell_type": "code",
   "execution_count": null,
   "id": "4e0a2eae",
   "metadata": {},
   "outputs": [],
   "source": [
    "pipeline.cal_dark(verbose=False)"
   ]
  },
  {
   "cell_type": "code",
   "execution_count": null,
   "id": "193e608b",
   "metadata": {},
   "outputs": [],
   "source": [
    "pipeline.cal_flat(verbose=False)"
   ]
  },
  {
   "cell_type": "code",
   "execution_count": null,
   "id": "5065150a",
   "metadata": {},
   "outputs": [],
   "source": [
    "pipeline.run_skycalc()"
   ]
  },
  {
   "cell_type": "code",
   "execution_count": null,
   "id": "5f14a3a1",
   "metadata": {},
   "outputs": [],
   "source": [
    "pipeline.util_genlines(verbose=False)"
   ]
  },
  {
   "cell_type": "code",
   "execution_count": null,
   "id": "3b2222dc",
   "metadata": {},
   "outputs": [],
   "source": [
    "pipeline.cal_wave(verbose=False)"
   ]
  },
  {
   "cell_type": "code",
   "execution_count": null,
   "id": "0f0d54a3",
   "metadata": {},
   "outputs": [],
   "source": [
    "pipeline.obs_nodding(verbose=False)"
   ]
  }
 ],
 "metadata": {
  "kernelspec": {
   "display_name": "Python 3 (ipykernel)",
   "language": "python",
   "name": "python3"
  },
  "language_info": {
   "codemirror_mode": {
    "name": "ipython",
    "version": 3
   },
   "file_extension": ".py",
   "mimetype": "text/x-python",
   "name": "python",
   "nbconvert_exporter": "python",
   "pygments_lexer": "ipython3",
   "version": "3.9.6"
  }
 },
 "nbformat": 4,
 "nbformat_minor": 5
}
