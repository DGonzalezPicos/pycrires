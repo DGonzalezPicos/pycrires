{
 "cells": [
  {
   "cell_type": "markdown",
   "id": "7eed1901",
   "metadata": {},
   "source": [
    "# Tutorial"
   ]
  },
  {
   "cell_type": "markdown",
   "id": "c2ca37c6",
   "metadata": {},
   "source": [
    "We start by importing the `Pipeline` from the `pycrires` library."
   ]
  },
  {
   "cell_type": "code",
   "execution_count": 1,
   "id": "2a59653f",
   "metadata": {},
   "outputs": [],
   "source": [
    "from pycrires import Pipeline"
   ]
  },
  {
   "cell_type": "markdown",
   "id": "f9864c75",
   "metadata": {},
   "source": [
    "Next, we create an instance of `Pipeline`."
   ]
  },
  {
   "cell_type": "code",
   "execution_count": 2,
   "id": "36c9d6ce",
   "metadata": {},
   "outputs": [
    {
     "name": "stdout",
     "output_type": "stream",
     "text": [
      "=======================\n",
      "Pipeline for VLT/CRIRES\n",
      "=======================\n",
      "\n",
      "Data reduction folder: /Users/tomasstolker/applications/pycrires/docs\n",
      "Creating header DataFrame\n"
     ]
    }
   ],
   "source": [
    "pipeline = Pipeline('./')"
   ]
  },
  {
   "cell_type": "code",
   "execution_count": null,
   "id": "1d55c2a9",
   "metadata": {},
   "outputs": [],
   "source": [
    "pipeline.rename_files()"
   ]
  },
  {
   "cell_type": "code",
   "execution_count": null,
   "id": "fc07df93",
   "metadata": {},
   "outputs": [],
   "source": [
    "pipeline.extract_header()"
   ]
  }
 ],
 "metadata": {
  "kernelspec": {
   "display_name": "Python 3 (ipykernel)",
   "language": "python",
   "name": "python3"
  },
  "language_info": {
   "codemirror_mode": {
    "name": "ipython",
    "version": 3
   },
   "file_extension": ".py",
   "mimetype": "text/x-python",
   "name": "python",
   "nbconvert_exporter": "python",
   "pygments_lexer": "ipython3",
   "version": "3.9.6"
  }
 },
 "nbformat": 4,
 "nbformat_minor": 5
}
