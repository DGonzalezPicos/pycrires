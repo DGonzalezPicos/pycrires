{
 "cells": [
  {
   "cell_type": "markdown",
   "id": "7eed1901",
   "metadata": {},
   "source": [
    "# Tutorial"
   ]
  },
  {
   "cell_type": "markdown",
   "id": "0617677d",
   "metadata": {},
   "source": [
    "## Downloading CRIRES data from the ESO archive"
   ]
  },
  {
   "cell_type": "markdown",
   "id": "fae55362",
   "metadata": {},
   "source": [
    "Before using `pycrires`, we will download a CRIRES dataset from the ESO archive. Let's import the `Eso` class from the `astroquery` package."
   ]
  },
  {
   "cell_type": "code",
   "execution_count": 1,
   "id": "2a59653f",
   "metadata": {},
   "outputs": [],
   "source": [
    "from astroquery.eso import Eso"
   ]
  },
  {
   "cell_type": "markdown",
   "id": "56c742b2",
   "metadata": {},
   "source": [
    "Next, we create an instance of `Eso` and will login by providing a personal username. Login details can be requested at the [ESO User Portal](https://www.eso.org/UserPortal/registration)."
   ]
  },
  {
   "cell_type": "code",
   "execution_count": 2,
   "id": "5f146346",
   "metadata": {},
   "outputs": [
    {
     "name": "stderr",
     "output_type": "stream",
     "text": [
      "WARNING: No password was found in the keychain for the provided username. [astroquery.query]\n"
     ]
    },
    {
     "name": "stdout",
     "output_type": "stream",
     "text": [
      "tstolker, enter your password:\n",
      "········\n",
      "INFO: Authenticating tstolker on www.eso.org... [astroquery.eso.core]\n",
      "INFO: Authentication successful! [astroquery.eso.core]\n"
     ]
    }
   ],
   "source": [
    "eso = Eso()\n",
    "eso.login(\"tstolker\")"
   ]
  },
  {
   "cell_type": "markdown",
   "id": "dd5440ec",
   "metadata": {},
   "source": [
    "In this tutorial, we will make use of the science verification data from ESO program [107.22TG](http://archive.eso.org/wdb/wdb/eso/abstract/query?progid=107.22TG.001). We first use the `query_instrument` function from `astroquery` to get a table with information about the files that are associated with this program."
   ]
  },
  {
   "cell_type": "code",
   "execution_count": 3,
   "id": "f9e4b913",
   "metadata": {},
   "outputs": [],
   "source": [
    "table = eso.query_instrument('crires', column_filters={'prog_id': '107.22TG'})"
   ]
  },
  {
   "cell_type": "markdown",
   "id": "c83ca78d",
   "metadata": {},
   "source": [
    "We also create a folder called *raw* in which `pycrires` will look for the raw data files."
   ]
  },
  {
   "cell_type": "code",
   "execution_count": 4,
   "id": "72cc049c",
   "metadata": {},
   "outputs": [],
   "source": [
    "import os\n",
    "if not os.path.exists('./raw'):\n",
    "    os.makedirs('./raw')"
   ]
  },
  {
   "cell_type": "markdown",
   "id": "181c5b12",
   "metadata": {},
   "source": [
    "Now we can download the data to the *raw* folder with the `retrieve_data` method of the `Eso` object."
   ]
  },
  {
   "cell_type": "code",
   "execution_count": 5,
   "id": "b15d35c9",
   "metadata": {},
   "outputs": [
    {
     "name": "stdout",
     "output_type": "stream",
     "text": [
      "INFO: Checking availability of datasets to download... [astroquery.eso.core]\n",
      "INFO: Downloading datasets... [astroquery.eso.core]\n",
      "INFO: Contacting retrieval server... [astroquery.eso.core]\n",
      "INFO: Staging request... [astroquery.eso.core]\n",
      "INFO: Staging form is at https://dataportal.eso.org/rh/requests/tstolker/658170 [astroquery.eso.core]\n",
      "INFO: Detecting already downloaded datasets, including calibrations... [astroquery.eso.core]\n",
      "INFO: Found CRIRE.2021-09-19T12:58:07.119.fits.Z.fits.Z... [astroquery.eso.core]\n",
      "INFO: Found CRIRE.2021-09-19T13:27:58.520.fits.Z.fits.Z... [astroquery.eso.core]\n",
      "INFO: Found CRIRE.2021-09-19T13:24:12.331.fits.Z.fits.Z... [astroquery.eso.core]\n",
      "INFO: Found CRIRE.2021-09-19T08:37:47.023.fits.Z.fits.Z... [astroquery.eso.core]\n",
      "INFO: Found M.CRIRES.2021-10-14T10:34:16.493.fits.fits... [astroquery.eso.core]\n",
      "INFO: Found CRIRE.2021-09-19T08:31:55.831.fits.Z.fits.Z... [astroquery.eso.core]\n",
      "INFO: Found CRIRE.2021-09-19T13:24:24.974.fits.Z.fits.Z... [astroquery.eso.core]\n",
      "INFO: Found CRIRE.2021-09-19T08:30:37.821.fits.Z.fits.Z... [astroquery.eso.core]\n",
      "INFO: Found CRIRE.2021-09-19T13:31:06.780.fits.Z.fits.Z... [astroquery.eso.core]\n",
      "INFO: Found CRIRE.2021-09-19T08:42:49.805.fits.Z.fits.Z... [astroquery.eso.core]\n",
      "INFO: Found CRIRE.2021-09-19T08:27:32.373.fits.Z.fits.Z... [astroquery.eso.core]\n",
      "INFO: Found CRIRE.2021-09-19T08:27:47.747.fits.Z.fits.Z... [astroquery.eso.core]\n",
      "INFO: Found CRIRE.2021-09-19T08:27:16.610.fits.Z.fits.Z... [astroquery.eso.core]\n",
      "INFO: Found CRIRE.2021-09-19T13:24:37.777.fits.Z.fits.Z... [astroquery.eso.core]\n",
      "INFO: Found M.CRIRES.2021-10-12T09:09:45.716.fits.fits... [astroquery.eso.core]\n",
      "INFO: Found CRIRE.2021-09-19T08:27:01.123.fits.Z.fits.Z... [astroquery.eso.core]\n",
      "INFO: Found CRIRE.2021-09-19T13:13:48.215.fits.Z.fits.Z... [astroquery.eso.core]\n",
      "INFO: Found CRIRE.2021-09-19T13:18:53.683.fits.Z.fits.Z... [astroquery.eso.core]\n",
      "INFO: Found CRIRE.2021-09-19T13:24:50.280.fits.Z.fits.Z... [astroquery.eso.core]\n",
      "INFO: Found CRIRE.2021-09-19T13:08:42.852.fits.Z.fits.Z... [astroquery.eso.core]\n",
      "INFO: Downloading 22 files... [astroquery.eso.core]\n",
      "INFO: Downloading file 1/22: CRIRE.2021-09-19T08:30:37.821.NL.txt... [astroquery.eso.core]\n",
      "Downloading URL https://dataportal.eso.org/dataPortal/requests/tstolker/658170/SAF/CRIRE.2021-09-19T08:30:37.821.NL/CRIRE.2021-09-19T08:30:37.821.NL.txt to /Users/tomasstolker/.astropy/cache/astroquery/Eso/CRIRE.2021-09-19T08:30:37.821.NL.txt ... [Done]\n",
      "INFO: Copying file CRIRE.2021-09-19T08:30:37.821.NL.txt to ./raw... [astroquery.eso.core]\n",
      "INFO: Downloading file 2/22: CRIRE.2021-09-19T08:27:47.747.NL.txt... [astroquery.eso.core]\n",
      "Downloading URL https://dataportal.eso.org/dataPortal/requests/tstolker/658170/SAF/CRIRE.2021-09-19T08:27:47.747.NL/CRIRE.2021-09-19T08:27:47.747.NL.txt to /Users/tomasstolker/.astropy/cache/astroquery/Eso/CRIRE.2021-09-19T08:27:47.747.NL.txt ... [Done]\n",
      "INFO: Copying file CRIRE.2021-09-19T08:27:47.747.NL.txt to ./raw... [astroquery.eso.core]\n",
      "INFO: Downloading file 3/22: CRIRE.2021-09-19T08:32:31.750.xml... [astroquery.eso.core]\n",
      "Downloading URL https://dataportal.eso.org/dataPortal/requests/tstolker/658170/STAGING/CRIRE.2021-09-19T08:32:31.750.AT/CRIRE.2021-09-19T08:32:31.750.xml to /Users/tomasstolker/.astropy/cache/astroquery/Eso/CRIRE.2021-09-19T08:32:31.750.xml ... [Done]\n",
      "INFO: Copying file CRIRE.2021-09-19T08:32:31.750.xml to ./raw... [astroquery.eso.core]\n",
      "INFO: Downloading file 4/22: CRIRE.2021-09-19T08:27:32.373.NL.txt... [astroquery.eso.core]\n",
      "Downloading URL https://dataportal.eso.org/dataPortal/requests/tstolker/658170/SAF/CRIRE.2021-09-19T08:27:32.373.NL/CRIRE.2021-09-19T08:27:32.373.NL.txt to /Users/tomasstolker/.astropy/cache/astroquery/Eso/CRIRE.2021-09-19T08:27:32.373.NL.txt ... [Done]\n",
      "INFO: Copying file CRIRE.2021-09-19T08:27:32.373.NL.txt to ./raw... [astroquery.eso.core]\n",
      "INFO: Downloading file 5/22: CRIRE.2021-09-19T08:27:01.123.NL.txt... [astroquery.eso.core]\n",
      "Downloading URL https://dataportal.eso.org/dataPortal/requests/tstolker/658170/SAF/CRIRE.2021-09-19T08:27:01.123.NL/CRIRE.2021-09-19T08:27:01.123.NL.txt to /Users/tomasstolker/.astropy/cache/astroquery/Eso/CRIRE.2021-09-19T08:27:01.123.NL.txt ... [Done]\n",
      "INFO: Copying file CRIRE.2021-09-19T08:27:01.123.NL.txt to ./raw... [astroquery.eso.core]\n",
      "INFO: Downloading file 6/22: CRIRE.2021-09-19T08:31:55.831.xml... [astroquery.eso.core]\n",
      "Downloading URL https://dataportal.eso.org/dataPortal/requests/tstolker/658170/STAGING/CRIRE.2021-09-19T08:31:55.831.AT/CRIRE.2021-09-19T08:31:55.831.xml to /Users/tomasstolker/.astropy/cache/astroquery/Eso/CRIRE.2021-09-19T08:31:55.831.xml ... [Done]\n",
      "INFO: Copying file CRIRE.2021-09-19T08:31:55.831.xml to ./raw... [astroquery.eso.core]\n",
      "INFO: Downloading file 7/22: CRIRE.2021-09-19T08:26:31.642.NL.txt... [astroquery.eso.core]\n",
      "Downloading URL https://dataportal.eso.org/dataPortal/requests/tstolker/658170/SAF/CRIRE.2021-09-19T08:26:31.642.NL/CRIRE.2021-09-19T08:26:31.642.NL.txt to /Users/tomasstolker/.astropy/cache/astroquery/Eso/CRIRE.2021-09-19T08:26:31.642.NL.txt ... [Done]\n",
      "INFO: Copying file CRIRE.2021-09-19T08:26:31.642.NL.txt to ./raw... [astroquery.eso.core]\n",
      "INFO: Downloading file 8/22: CRIRE.2021-09-19T08:26:31.642.xml... [astroquery.eso.core]\n",
      "Downloading URL https://dataportal.eso.org/dataPortal/requests/tstolker/658170/STAGING/CRIRE.2021-09-19T08:26:31.642.AT/CRIRE.2021-09-19T08:26:31.642.xml to /Users/tomasstolker/.astropy/cache/astroquery/Eso/CRIRE.2021-09-19T08:26:31.642.xml ... [Done]\n",
      "INFO: Copying file CRIRE.2021-09-19T08:26:31.642.xml to ./raw... [astroquery.eso.core]\n",
      "INFO: Downloading file 9/22: CRIRE.2021-09-19T08:27:16.610.xml... [astroquery.eso.core]\n",
      "Downloading URL https://dataportal.eso.org/dataPortal/requests/tstolker/658170/STAGING/CRIRE.2021-09-19T08:27:16.610.AT/CRIRE.2021-09-19T08:27:16.610.xml to /Users/tomasstolker/.astropy/cache/astroquery/Eso/CRIRE.2021-09-19T08:27:16.610.xml ... [Done]\n",
      "INFO: Copying file CRIRE.2021-09-19T08:27:16.610.xml to ./raw... [astroquery.eso.core]\n",
      "INFO: Downloading file 10/22: CRIRE.2021-09-19T08:27:16.610.NL.txt... [astroquery.eso.core]\n",
      "Downloading URL https://dataportal.eso.org/dataPortal/requests/tstolker/658170/SAF/CRIRE.2021-09-19T08:27:16.610.NL/CRIRE.2021-09-19T08:27:16.610.NL.txt to /Users/tomasstolker/.astropy/cache/astroquery/Eso/CRIRE.2021-09-19T08:27:16.610.NL.txt ... [Done]\n",
      "INFO: Copying file CRIRE.2021-09-19T08:27:16.610.NL.txt to ./raw... [astroquery.eso.core]\n",
      "INFO: Downloading file 11/22: CRIRE.2021-09-19T08:31:55.831.NL.txt... [astroquery.eso.core]\n",
      "Downloading URL https://dataportal.eso.org/dataPortal/requests/tstolker/658170/SAF/CRIRE.2021-09-19T08:31:55.831.NL/CRIRE.2021-09-19T08:31:55.831.NL.txt to /Users/tomasstolker/.astropy/cache/astroquery/Eso/CRIRE.2021-09-19T08:31:55.831.NL.txt ... [Done]\n",
      "INFO: Copying file CRIRE.2021-09-19T08:31:55.831.NL.txt to ./raw... [astroquery.eso.core]\n",
      "INFO: Downloading file 12/22: CRIRE.2021-09-19T08:30:37.821.xml... [astroquery.eso.core]\n",
      "Downloading URL https://dataportal.eso.org/dataPortal/requests/tstolker/658170/STAGING/CRIRE.2021-09-19T08:30:37.821.AT/CRIRE.2021-09-19T08:30:37.821.xml to /Users/tomasstolker/.astropy/cache/astroquery/Eso/CRIRE.2021-09-19T08:30:37.821.xml ... [Done]\n",
      "INFO: Copying file CRIRE.2021-09-19T08:30:37.821.xml to ./raw... [astroquery.eso.core]\n",
      "INFO: Downloading file 13/22: CRIRE.2021-09-19T08:32:31.750.NL.txt... [astroquery.eso.core]\n",
      "Downloading URL https://dataportal.eso.org/dataPortal/requests/tstolker/658170/SAF/CRIRE.2021-09-19T08:32:31.750.NL/CRIRE.2021-09-19T08:32:31.750.NL.txt to /Users/tomasstolker/.astropy/cache/astroquery/Eso/CRIRE.2021-09-19T08:32:31.750.NL.txt ... [Done]\n",
      "INFO: Copying file CRIRE.2021-09-19T08:32:31.750.NL.txt to ./raw... [astroquery.eso.core]\n",
      "INFO: Downloading file 14/22: CRIRE.2021-09-19T08:27:01.123.xml... [astroquery.eso.core]\n",
      "Downloading URL https://dataportal.eso.org/dataPortal/requests/tstolker/658170/STAGING/CRIRE.2021-09-19T08:27:01.123.AT/CRIRE.2021-09-19T08:27:01.123.xml to /Users/tomasstolker/.astropy/cache/astroquery/Eso/CRIRE.2021-09-19T08:27:01.123.xml ... [Done]\n",
      "INFO: Copying file CRIRE.2021-09-19T08:27:01.123.xml to ./raw... [astroquery.eso.core]\n",
      "INFO: Downloading file 15/22: CRIRE.2021-09-19T08:27:32.373.xml... [astroquery.eso.core]\n"
     ]
    },
    {
     "name": "stdout",
     "output_type": "stream",
     "text": [
      "Downloading URL https://dataportal.eso.org/dataPortal/requests/tstolker/658170/STAGING/CRIRE.2021-09-19T08:27:32.373.AT/CRIRE.2021-09-19T08:27:32.373.xml to /Users/tomasstolker/.astropy/cache/astroquery/Eso/CRIRE.2021-09-19T08:27:32.373.xml ... [Done]\n",
      "INFO: Copying file CRIRE.2021-09-19T08:27:32.373.xml to ./raw... [astroquery.eso.core]\n",
      "INFO: Downloading file 16/22: CRIRE.2021-09-19T08:27:47.747.xml... [astroquery.eso.core]\n",
      "Downloading URL https://dataportal.eso.org/dataPortal/requests/tstolker/658170/STAGING/CRIRE.2021-09-19T08:27:47.747.AT/CRIRE.2021-09-19T08:27:47.747.xml to /Users/tomasstolker/.astropy/cache/astroquery/Eso/CRIRE.2021-09-19T08:27:47.747.xml ... [Done]\n",
      "INFO: Copying file CRIRE.2021-09-19T08:27:47.747.xml to ./raw... [astroquery.eso.core]\n",
      "INFO: Downloading file 17/22: CRIRE.2021-09-19T08:48:06.185.fits.Z... [astroquery.eso.core]\n",
      "Downloading URL https://dataportal.eso.org/dataPortal/requests/tstolker/658170/SAF/CRIRE.2021-09-19T08:48:06.185/CRIRE.2021-09-19T08:48:06.185.fits.Z to /Users/tomasstolker/.astropy/cache/astroquery/Eso/CRIRE.2021-09-19T08:48:06.185.fits.Z ... [Done]\n",
      "INFO: Copying file CRIRE.2021-09-19T08:48:06.185.fits.Z to ./raw... [astroquery.eso.core]\n",
      "INFO: Downloading file 18/22: CRIRE.2021-09-19T08:32:31.750.fits.Z... [astroquery.eso.core]\n",
      "Downloading URL https://dataportal.eso.org/dataPortal/requests/tstolker/658170/SAF/CRIRE.2021-09-19T08:32:31.750/CRIRE.2021-09-19T08:32:31.750.fits.Z to /Users/tomasstolker/.astropy/cache/astroquery/Eso/CRIRE.2021-09-19T08:32:31.750.fits.Z ... [Done]\n",
      "INFO: Copying file CRIRE.2021-09-19T08:32:31.750.fits.Z to ./raw... [astroquery.eso.core]\n",
      "INFO: Downloading file 19/22: CRIRE.2021-09-19T13:01:46.937.fits.Z... [astroquery.eso.core]\n",
      "Downloading URL https://dataportal.eso.org/dataPortal/requests/tstolker/658170/SAF/CRIRE.2021-09-19T13:01:46.937/CRIRE.2021-09-19T13:01:46.937.fits.Z to /Users/tomasstolker/.astropy/cache/astroquery/Eso/CRIRE.2021-09-19T13:01:46.937.fits.Z ... [Done]\n",
      "INFO: Copying file CRIRE.2021-09-19T13:01:46.937.fits.Z to ./raw... [astroquery.eso.core]\n",
      "INFO: Downloading file 20/22: CRIRE.2021-09-19T08:26:31.642.fits.Z... [astroquery.eso.core]\n",
      "Downloading URL https://dataportal.eso.org/dataPortal/requests/tstolker/658170/SAF/CRIRE.2021-09-19T08:26:31.642/CRIRE.2021-09-19T08:26:31.642.fits.Z to /Users/tomasstolker/.astropy/cache/astroquery/Eso/CRIRE.2021-09-19T08:26:31.642.fits.Z ... [Done]\n",
      "INFO: Copying file CRIRE.2021-09-19T08:26:31.642.fits.Z to ./raw... [astroquery.eso.core]\n",
      "INFO: Downloading file 21/22: CRIRE.2021-09-19T12:57:57.437.fits.Z... [astroquery.eso.core]\n",
      "Downloading URL https://dataportal.eso.org/dataPortal/requests/tstolker/658170/SAF/CRIRE.2021-09-19T12:57:57.437/CRIRE.2021-09-19T12:57:57.437.fits.Z to /Users/tomasstolker/.astropy/cache/astroquery/Eso/CRIRE.2021-09-19T12:57:57.437.fits.Z ... [Done]\n",
      "INFO: Copying file CRIRE.2021-09-19T12:57:57.437.fits.Z to ./raw... [astroquery.eso.core]\n",
      "INFO: Downloading file 22/22: CRIRE.2021-09-19T12:58:16.795.fits.Z... [astroquery.eso.core]\n",
      "Downloading URL https://dataportal.eso.org/dataPortal/requests/tstolker/658170/SAF/CRIRE.2021-09-19T12:58:16.795/CRIRE.2021-09-19T12:58:16.795.fits.Z to /Users/tomasstolker/.astropy/cache/astroquery/Eso/CRIRE.2021-09-19T12:58:16.795.fits.Z ... [Done]\n",
      "INFO: Copying file CRIRE.2021-09-19T12:58:16.795.fits.Z to ./raw... [astroquery.eso.core]\n",
      "INFO: Done! [astroquery.eso.core]\n"
     ]
    }
   ],
   "source": [
    "data_files = eso.retrieve_data(table['DP.ID'],\n",
    "                               destination='./raw',\n",
    "                               continuation=False,\n",
    "                               with_calib='raw',\n",
    "                               request_all_objects=True,\n",
    "                               unzip=False)"
   ]
  },
  {
   "cell_type": "markdown",
   "id": "8b3cbf0f",
   "metadata": {},
   "source": [
    "Now we need to go to the *raw* folder and manually uncompress the *.fits.Z* files, for example with the `uncompress` command."
   ]
  },
  {
   "cell_type": "markdown",
   "id": "60cf744d",
   "metadata": {},
   "source": [
    "## Running the pipeline"
   ]
  },
  {
   "cell_type": "markdown",
   "id": "09b2a5cd",
   "metadata": {},
   "source": [
    "Now we can start the data reduction by first importing the `Pipeline` from the `pycrires` package."
   ]
  },
  {
   "cell_type": "code",
   "execution_count": 6,
   "id": "eb1e16e4",
   "metadata": {},
   "outputs": [],
   "source": [
    "from pycrires import Pipeline"
   ]
  },
  {
   "cell_type": "markdown",
   "id": "f9864c75",
   "metadata": {},
   "source": [
    "Next, we create an instance of `Pipeline`. The argument provides the path in which the *raw* folder is located (i.e. the folder where the compressed FITS files were downloaded)."
   ]
  },
  {
   "cell_type": "code",
   "execution_count": 17,
   "id": "36c9d6ce",
   "metadata": {},
   "outputs": [
    {
     "name": "stdout",
     "output_type": "stream",
     "text": [
      "=======================\n",
      "Pipeline for VLT/CRIRES\n",
      "=======================\n",
      "\n",
      "Data reduction folder: /Users/tomasstolker/applications/pycrires/docs\n",
      "Creating header DataFrame\n",
      "Creating dictionary for filenames\n",
      "Available esorex recipes for CRIRES+:\n",
      "   -  cr2res_obs_2d         : 2D Observation recipe\n",
      "   -  cr2res_util_genlines  : Generate spectrum calibration FITS tables\n",
      "   -  cr2res_util_wave      : Wavelength Calibration\n",
      "   -  cr2res_util_bpm_split : BPM splitting utility\n",
      "   -  cr2res_util_plot      : Plotting utility\n",
      "   -  cr2res_cal_wave       : Wavelength Calibration\n",
      "   -  cr2res_obs_staring    : Staring Observation recipe\n",
      "   -  cr2res_util_trace     : Trace utility\n",
      "   -  cr2res_cal_detlin     : Detector Linearity recipe\n",
      "   -  cr2res_util_slit_curv : Slit Curvature utility\n",
      "   -  cr2res_cal_flat       : Flat recipe\n",
      "   -  cr2res_util_trace_map : TRACE_WAVE maps creation\n",
      "   -  cr2res_util_calib     : Calibration utility\n",
      "   -  cr2res_util_extract   : Optimal Extraction utility\n",
      "   -  cr2res_obs_nodding    : Nodding Observation recipe\n",
      "   -  cr2res_util_bpm_merge : BPM merging utility\n",
      "   -  cr2res_util_normflat  : Flat Normalization utility\n",
      "   -  cr2res_cal_dark       : Dark recipe\n",
      "   -  cr2res_util_splice    : Splicing utility\n",
      "   -  cr2res_util_genstd    : Generate standard star FITS tables\n",
      "   -  cr2res_obs_pol        : Polarimetry Observation recipe\n"
     ]
    }
   ],
   "source": [
    "pipeline = Pipeline('./')"
   ]
  },
  {
   "cell_type": "code",
   "execution_count": 18,
   "id": "1d55c2a9",
   "metadata": {},
   "outputs": [
    {
     "name": "stdout",
     "output_type": "stream",
     "text": [
      "\n",
      "--------------\n",
      "Renaming files\n",
      "--------------\n",
      "\n",
      "Science data:\n",
      "\n",
      "   - CRIRE.2021-09-19T08:32:31.750.fits\n",
      "   - CRIRE.2021-09-19T08:37:47.023.fits\n",
      "   - CRIRE.2021-09-19T08:42:49.805.fits\n",
      "   - CRIRE.2021-09-19T08:48:06.185.fits\n",
      "\n",
      "Calibration data:\n",
      "\n",
      "   - CRIRE.2021-09-19T08:26:31.642.fits\n",
      "   - CRIRE.2021-09-19T08:27:01.123.fits\n",
      "   - CRIRE.2021-09-19T08:27:16.610.fits\n",
      "   - CRIRE.2021-09-19T08:27:32.373.fits\n",
      "   - CRIRE.2021-09-19T08:27:47.747.fits\n",
      "   - CRIRE.2021-09-19T12:57:57.437.fits\n",
      "   - CRIRE.2021-09-19T12:58:07.119.fits\n",
      "   - CRIRE.2021-09-19T12:58:16.795.fits\n",
      "   - CRIRE.2021-09-19T13:01:46.937.fits\n",
      "   - CRIRE.2021-09-19T13:08:42.852.fits\n",
      "   - CRIRE.2021-09-19T13:13:48.215.fits\n",
      "   - CRIRE.2021-09-19T13:18:53.683.fits\n",
      "   - CRIRE.2021-09-19T13:24:12.331.fits\n",
      "   - CRIRE.2021-09-19T13:24:24.974.fits\n",
      "   - CRIRE.2021-09-19T13:24:37.777.fits\n",
      "   - CRIRE.2021-09-19T13:24:50.280.fits\n",
      "   - CRIRE.2021-09-19T13:27:58.520.fits\n",
      "   - CRIRE.2021-09-19T13:31:06.780.fits\n",
      "\n",
      "Acquisition data:\n",
      "\n",
      "   - CRIRE.2021-09-19T08:30:37.821.fits\n",
      "   - CRIRE.2021-09-19T08:31:55.831.fits\n",
      "\n",
      "Total tumber of FITS files: 26\n",
      "Number of renamed files: 24\n"
     ]
    }
   ],
   "source": [
    "pipeline.rename_files()"
   ]
  },
  {
   "cell_type": "code",
   "execution_count": 19,
   "id": "fc07df93",
   "metadata": {},
   "outputs": [
    {
     "name": "stdout",
     "output_type": "stream",
     "text": [
      "\n",
      "-----------------------\n",
      "Extracting FITS headers\n",
      "-----------------------\n",
      "\n",
      "Creating new DataFrame...\n",
      "\n",
      "Exporting DataFrame to header.csv\n",
      "Exporting DataFrame to header.xlsx\n",
      "\n",
      "-------------------\n",
      "Observation details\n",
      "-------------------\n",
      "\n",
      "RA Dec = 03h55m23.85484364s +11d33m33.44727273s\n",
      "Target = 2MASS J03552337+1133437\n",
      "Program ID = 107.22TG.001\n",
      "Wavelength setting = K2166\n",
      "Central wavelength (nm) = 2166.016\n",
      "Position angle (deg) = 70.0\n",
      "Slit width (arcsec) = 0.2\n",
      "Grating order = 26.0\n",
      "\n",
      "Observation ID:\n",
      "   - 3083260.0 -> 11 files\n",
      "   - 200163466.0 -> 13 files\n",
      "   - 2975060.0 -> 1 files\n",
      "   - nan -> 0 files\n"
     ]
    }
   ],
   "source": [
    "pipeline.extract_header()"
   ]
  },
  {
   "cell_type": "code",
   "execution_count": 20,
   "id": "4e0a2eae",
   "metadata": {},
   "outputs": [
    {
     "name": "stdout",
     "output_type": "stream",
     "text": [
      "\n",
      "------------------\n",
      "Create master dark\n",
      "------------------\n",
      "\n",
      "Creating .sof file:\n",
      "   - raw/CRIRES_SPEC_DARK262_0196.fits DARK\n",
      "   - raw/CRIRES_SPEC_DARK262_0197.fits DARK\n",
      "   - raw/CRIRES_SPEC_DARK262_0198.fits DARK\n",
      "   - raw/CRIRES_SPEC_DARK262_0199.fits DARK\n",
      "   - raw/CRIRES_SPEC_DARK262_0200.fits DARK\n",
      "   - raw/CRIRES_SPEC_DARK262_0201.fits DARK\n",
      "   - raw/CRIRES_SPEC_DARK262_0202.fits DARK\n",
      "   - raw/CRIRES_SPEC_DARK262_0203.fits DARK\n",
      "   - raw/CRIRES_SPEC_DARK262_0204.fits DARK\n"
     ]
    }
   ],
   "source": [
    "pipeline.cal_dark(verbose=False)"
   ]
  },
  {
   "cell_type": "code",
   "execution_count": null,
   "id": "193e608b",
   "metadata": {},
   "outputs": [],
   "source": [
    "pipeline.cal_flat(verbose=False)"
   ]
  },
  {
   "cell_type": "code",
   "execution_count": null,
   "id": "5065150a",
   "metadata": {},
   "outputs": [],
   "source": [
    "pipeline.run_skycalc()"
   ]
  },
  {
   "cell_type": "code",
   "execution_count": null,
   "id": "5f14a3a1",
   "metadata": {},
   "outputs": [],
   "source": [
    "pipeline.util_genlines(verbose=False)"
   ]
  },
  {
   "cell_type": "code",
   "execution_count": null,
   "id": "3b2222dc",
   "metadata": {},
   "outputs": [],
   "source": [
    "pipeline.cal_wave(verbose=False)"
   ]
  },
  {
   "cell_type": "code",
   "execution_count": null,
   "id": "0f0d54a3",
   "metadata": {},
   "outputs": [],
   "source": [
    "pipeline.obs_nodding(verbose=False)"
   ]
  }
 ],
 "metadata": {
  "kernelspec": {
   "display_name": "Python 3 (ipykernel)",
   "language": "python",
   "name": "python3"
  },
  "language_info": {
   "codemirror_mode": {
    "name": "ipython",
    "version": 3
   },
   "file_extension": ".py",
   "mimetype": "text/x-python",
   "name": "python",
   "nbconvert_exporter": "python",
   "pygments_lexer": "ipython3",
   "version": "3.9.6"
  }
 },
 "nbformat": 4,
 "nbformat_minor": 5
}
